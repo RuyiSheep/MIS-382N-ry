{
  "nbformat": 4,
  "nbformat_minor": 0,
  "metadata": {
    "colab": {
      "provenance": [],
      "gpuType": "T4",
      "include_colab_link": true
    },
    "kernelspec": {
      "name": "python3",
      "display_name": "Python 3"
    },
    "language_info": {
      "name": "python"
    }
  },
  "cells": [
    {
      "cell_type": "markdown",
      "metadata": {
        "id": "view-in-github",
        "colab_type": "text"
      },
      "source": [
        "<a href=\"https://colab.research.google.com/github/RuyiSheep/MIS-382N-ry/blob/main/HW1_Team2.ipynb\" target=\"_parent\"><img src=\"https://colab.research.google.com/assets/colab-badge.svg\" alt=\"Open In Colab\"/></a>"
      ]
    },
    {
      "cell_type": "markdown",
      "source": [
        "# MIS382N: Homework 1\n",
        "\n",
        "Submit:\n",
        "\n",
        "A read-only link to your colab notebook, executed and saved (so that we can run it, but don't necessarily have to, to see your results).\n",
        "\n",
        "For any questions that require written explanation, please use Markdown - it is a lot easier for us to read than comments in the code.\n",
        "\n",
        "**If you used any AI help, please describe how you used it and what you used.**\n",
        "\n",
        "**Goals of this Lab:**\n",
        "1.  Practice with Pandas, Numpy and Data Exploration.\n",
        "2.  Training vs testing error\n",
        "3.  Review important results from probability, such as the CLT.\n"
      ],
      "metadata": {
        "id": "cODeBzg1alZC"
      }
    },
    {
      "cell_type": "markdown",
      "source": [
        "## AI Usage disclosure\n",
        "I used AI to guide me through my assignment by asking specific questions about data cleaning and handling missing values. It helped me find the pandas method to replace characters like \"?\" with NaN, fill them with column means, and check datatypes."
      ],
      "metadata": {
        "id": "R8hKh60gPIxy"
      }
    },
    {
      "cell_type": "code",
      "source": [
        "# Some useful libraries\n",
        "import numpy as np\n",
        "from numpy.random import default_rng\n",
        "\n",
        "#Pandas for data structure and analysis tools\n",
        "import pandas as pd\n",
        "\n",
        "#seaborn and matplotlib for plotting\n",
        "import seaborn as sns\n",
        "import matplotlib.pyplot as plt\n",
        "\n",
        "#for nice vector graphics\n",
        "%matplotlib inline\n",
        "\n",
        "#from IPython.display import set_matplotlib_formats\n",
        "#set_matplotlib_formats('png', 'pdf')\n",
        "\n",
        "np.random.seed(42) # Fixed seed for reproducibility\n",
        "rng = default_rng(42)"
      ],
      "metadata": {
        "id": "4Xvcqq7SapU5"
      },
      "execution_count": null,
      "outputs": []
    },
    {
      "cell_type": "markdown",
      "source": [
        "### Problem 1\n",
        "\n",
        "Download from Canvas/Files the dataset ``PatientData.csv``. Each row is a patient and the last column is the condition that the patient has.  Do data exploration using Pandas and other visualization tools to understand what you can about the data set. For example:\n",
        "\n",
        "Part 1.  How many patients and how many features are there?\n",
        "\n",
        "Part 2.  What is the meaning of the first 4 features?  See if you can understand what they mean.\n",
        "\n",
        "Part 3.  Are there missing values?  Replace them with the average of the corresponding feature column\n",
        "\n",
        "Part 4.  How could you test which features strongly influence the patient condition and which do not? List what you think are the three most important features."
      ],
      "metadata": {
        "id": "OG1S6pFANq4b"
      }
    },
    {
      "cell_type": "markdown",
      "source": [
        "### Part 1"
      ],
      "metadata": {
        "id": "Pi_1qMPntU19"
      }
    },
    {
      "cell_type": "code",
      "source": [
        "#import data\n",
        "from google.colab import drive\n",
        "drive.mount('/content/drive')\n",
        "\n",
        "file_path = '/content/drive/MyDrive/Colab Notebooks/HW-Dataset/PatientData.csv'\n",
        "patient_data = pd.read_csv(file_path, header = None)"
      ],
      "metadata": {
        "colab": {
          "base_uri": "https://localhost:8080/"
        },
        "id": "-HM2CZcxsH5L",
        "outputId": "440e486f-9ab0-4a83-b9d5-cfc26233492f"
      },
      "execution_count": null,
      "outputs": [
        {
          "output_type": "stream",
          "name": "stdout",
          "text": [
            "Drive already mounted at /content/drive; to attempt to forcibly remount, call drive.mount(\"/content/drive\", force_remount=True).\n"
          ]
        }
      ]
    },
    {
      "cell_type": "code",
      "source": [
        "row, col = patient_data.shape\n",
        "print(f\"There are {row} patients and {col} features in the dataset.\")"
      ],
      "metadata": {
        "colab": {
          "base_uri": "https://localhost:8080/"
        },
        "id": "D0byNqKNs6ko",
        "outputId": "f0257176-55e9-4d46-8ab8-5d2c1bca0db4"
      },
      "execution_count": null,
      "outputs": [
        {
          "output_type": "stream",
          "name": "stdout",
          "text": [
            "There are 452 patients and 280 features in the dataset.\n"
          ]
        }
      ]
    },
    {
      "cell_type": "markdown",
      "source": [
        "### Part 2\n",
        "The first column may be \"Age\" as it follows the national age distribution with min and max in an approximately 0-90 range.  \n",
        "The second column may be \"Gender\" as it is boolean and almost balanced.  \n",
        "The third column may be \"Height (cm)\" and\n",
        "the fourth column may be \"Weight (kg)\" as the data points falls in the range of possible height and weight, and centered at the common height and weight valye"
      ],
      "metadata": {
        "id": "BvCSJ1fLtacd"
      }
    },
    {
      "cell_type": "code",
      "source": [
        "# Take a initial look at data\n",
        "patient_data.iloc[:1,:4]"
      ],
      "metadata": {
        "colab": {
          "base_uri": "https://localhost:8080/",
          "height": 81
        },
        "id": "ifc48j9jtc54",
        "outputId": "fb22b70f-abef-4065-f67b-04f0ceb96111"
      },
      "execution_count": null,
      "outputs": [
        {
          "output_type": "execute_result",
          "data": {
            "text/plain": [
              "    0  1    2   3\n",
              "0  75  0  190  80"
            ],
            "text/html": [
              "\n",
              "  <div id=\"df-5f0a8161-607a-46a0-8bed-8c87d0daf021\" class=\"colab-df-container\">\n",
              "    <div>\n",
              "<style scoped>\n",
              "    .dataframe tbody tr th:only-of-type {\n",
              "        vertical-align: middle;\n",
              "    }\n",
              "\n",
              "    .dataframe tbody tr th {\n",
              "        vertical-align: top;\n",
              "    }\n",
              "\n",
              "    .dataframe thead th {\n",
              "        text-align: right;\n",
              "    }\n",
              "</style>\n",
              "<table border=\"1\" class=\"dataframe\">\n",
              "  <thead>\n",
              "    <tr style=\"text-align: right;\">\n",
              "      <th></th>\n",
              "      <th>0</th>\n",
              "      <th>1</th>\n",
              "      <th>2</th>\n",
              "      <th>3</th>\n",
              "    </tr>\n",
              "  </thead>\n",
              "  <tbody>\n",
              "    <tr>\n",
              "      <th>0</th>\n",
              "      <td>75</td>\n",
              "      <td>0</td>\n",
              "      <td>190</td>\n",
              "      <td>80</td>\n",
              "    </tr>\n",
              "  </tbody>\n",
              "</table>\n",
              "</div>\n",
              "    <div class=\"colab-df-buttons\">\n",
              "\n",
              "  <div class=\"colab-df-container\">\n",
              "    <button class=\"colab-df-convert\" onclick=\"convertToInteractive('df-5f0a8161-607a-46a0-8bed-8c87d0daf021')\"\n",
              "            title=\"Convert this dataframe to an interactive table.\"\n",
              "            style=\"display:none;\">\n",
              "\n",
              "  <svg xmlns=\"http://www.w3.org/2000/svg\" height=\"24px\" viewBox=\"0 -960 960 960\">\n",
              "    <path d=\"M120-120v-720h720v720H120Zm60-500h600v-160H180v160Zm220 220h160v-160H400v160Zm0 220h160v-160H400v160ZM180-400h160v-160H180v160Zm440 0h160v-160H620v160ZM180-180h160v-160H180v160Zm440 0h160v-160H620v160Z\"/>\n",
              "  </svg>\n",
              "    </button>\n",
              "\n",
              "  <style>\n",
              "    .colab-df-container {\n",
              "      display:flex;\n",
              "      gap: 12px;\n",
              "    }\n",
              "\n",
              "    .colab-df-convert {\n",
              "      background-color: #E8F0FE;\n",
              "      border: none;\n",
              "      border-radius: 50%;\n",
              "      cursor: pointer;\n",
              "      display: none;\n",
              "      fill: #1967D2;\n",
              "      height: 32px;\n",
              "      padding: 0 0 0 0;\n",
              "      width: 32px;\n",
              "    }\n",
              "\n",
              "    .colab-df-convert:hover {\n",
              "      background-color: #E2EBFA;\n",
              "      box-shadow: 0px 1px 2px rgba(60, 64, 67, 0.3), 0px 1px 3px 1px rgba(60, 64, 67, 0.15);\n",
              "      fill: #174EA6;\n",
              "    }\n",
              "\n",
              "    .colab-df-buttons div {\n",
              "      margin-bottom: 4px;\n",
              "    }\n",
              "\n",
              "    [theme=dark] .colab-df-convert {\n",
              "      background-color: #3B4455;\n",
              "      fill: #D2E3FC;\n",
              "    }\n",
              "\n",
              "    [theme=dark] .colab-df-convert:hover {\n",
              "      background-color: #434B5C;\n",
              "      box-shadow: 0px 1px 3px 1px rgba(0, 0, 0, 0.15);\n",
              "      filter: drop-shadow(0px 1px 2px rgba(0, 0, 0, 0.3));\n",
              "      fill: #FFFFFF;\n",
              "    }\n",
              "  </style>\n",
              "\n",
              "    <script>\n",
              "      const buttonEl =\n",
              "        document.querySelector('#df-5f0a8161-607a-46a0-8bed-8c87d0daf021 button.colab-df-convert');\n",
              "      buttonEl.style.display =\n",
              "        google.colab.kernel.accessAllowed ? 'block' : 'none';\n",
              "\n",
              "      async function convertToInteractive(key) {\n",
              "        const element = document.querySelector('#df-5f0a8161-607a-46a0-8bed-8c87d0daf021');\n",
              "        const dataTable =\n",
              "          await google.colab.kernel.invokeFunction('convertToInteractive',\n",
              "                                                    [key], {});\n",
              "        if (!dataTable) return;\n",
              "\n",
              "        const docLinkHtml = 'Like what you see? Visit the ' +\n",
              "          '<a target=\"_blank\" href=https://colab.research.google.com/notebooks/data_table.ipynb>data table notebook</a>'\n",
              "          + ' to learn more about interactive tables.';\n",
              "        element.innerHTML = '';\n",
              "        dataTable['output_type'] = 'display_data';\n",
              "        await google.colab.output.renderOutput(dataTable, element);\n",
              "        const docLink = document.createElement('div');\n",
              "        docLink.innerHTML = docLinkHtml;\n",
              "        element.appendChild(docLink);\n",
              "      }\n",
              "    </script>\n",
              "  </div>\n",
              "\n",
              "\n",
              "    </div>\n",
              "  </div>\n"
            ],
            "application/vnd.google.colaboratory.intrinsic+json": {
              "type": "dataframe",
              "summary": "{\n  \"name\": \"patient_data\",\n  \"rows\": 1,\n  \"fields\": [\n    {\n      \"column\": 0,\n      \"properties\": {\n        \"dtype\": \"number\",\n        \"std\": null,\n        \"min\": 75,\n        \"max\": 75,\n        \"num_unique_values\": 1,\n        \"samples\": [\n          75\n        ],\n        \"semantic_type\": \"\",\n        \"description\": \"\"\n      }\n    },\n    {\n      \"column\": 1,\n      \"properties\": {\n        \"dtype\": \"number\",\n        \"std\": null,\n        \"min\": 0,\n        \"max\": 0,\n        \"num_unique_values\": 1,\n        \"samples\": [\n          0\n        ],\n        \"semantic_type\": \"\",\n        \"description\": \"\"\n      }\n    },\n    {\n      \"column\": 2,\n      \"properties\": {\n        \"dtype\": \"number\",\n        \"std\": null,\n        \"min\": 190,\n        \"max\": 190,\n        \"num_unique_values\": 1,\n        \"samples\": [\n          190\n        ],\n        \"semantic_type\": \"\",\n        \"description\": \"\"\n      }\n    },\n    {\n      \"column\": 3,\n      \"properties\": {\n        \"dtype\": \"number\",\n        \"std\": null,\n        \"min\": 80,\n        \"max\": 80,\n        \"num_unique_values\": 1,\n        \"samples\": [\n          80\n        ],\n        \"semantic_type\": \"\",\n        \"description\": \"\"\n      }\n    }\n  ]\n}"
            }
          },
          "metadata": {},
          "execution_count": 7
        }
      ]
    },
    {
      "cell_type": "code",
      "source": [
        "# Exploratory data analysis\n",
        "col1 = patient_data.iloc[:,0]\n",
        "col2 = patient_data.iloc[:,1]\n",
        "col3 = patient_data.iloc[:,2]\n",
        "col4 = patient_data.iloc[:,3]"
      ],
      "metadata": {
        "id": "uCfUzSbavaAP"
      },
      "execution_count": null,
      "outputs": []
    },
    {
      "cell_type": "code",
      "source": [
        "fig, axes = plt.subplots(1, 4, figsize=(15, 4))\n",
        "axes[0].hist(col1, bins=30, color=\"skyblue\", edgecolor=\"black\")\n",
        "axes[0].set_title(\"Column 1\")\n",
        "axes[0].set_xlabel(\"Value\")\n",
        "axes[0].set_ylabel(\"Frequency\")\n",
        "\n",
        "axes[1].hist(col2, bins=2, color=\"skyblue\", edgecolor=\"black\")\n",
        "axes[1].set_title(\"Column 2\")\n",
        "axes[1].set_xlabel(\"Value\")\n",
        "axes[1].set_ylabel(\"Frequency\")\n",
        "\n",
        "axes[2].hist(col3, bins=30, color=\"skyblue\", edgecolor=\"black\")\n",
        "axes[2].set_title(\"Column 3\")\n",
        "axes[2].set_xlabel(\"Value\")\n",
        "axes[2].set_ylabel(\"Frequency\")\n",
        "\n",
        "axes[3].hist(col4, bins=30, color=\"skyblue\", edgecolor=\"black\")\n",
        "axes[3].set_title(\"Column 4\")\n",
        "axes[3].set_xlabel(\"Value\")\n",
        "axes[3].set_ylabel(\"Frequency\")"
      ],
      "metadata": {
        "colab": {
          "base_uri": "https://localhost:8080/",
          "height": 428
        },
        "id": "BX6bQJsmvZR9",
        "outputId": "4f49a2cc-ca46-4032-f95c-d39a5ab51cbf"
      },
      "execution_count": null,
      "outputs": [
        {
          "output_type": "execute_result",
          "data": {
            "text/plain": [
              "Text(0, 0.5, 'Frequency')"
            ]
          },
          "metadata": {},
          "execution_count": 12
        },
        {
          "output_type": "display_data",
          "data": {
            "text/plain": [
              "<Figure size 1500x400 with 4 Axes>"
            ],
            "image/png": "[encoded data removed]"
          },
          "metadata": {}
        }
      ]
    },
    {
      "cell_type": "markdown",
      "source": [
        "### Part 3"
      ],
      "metadata": {
        "id": "ck-c_qXuyW6d"
      }
    },
    {
      "cell_type": "markdown",
      "source": [
        "There are in total 408 missing values in the dataset\n"
      ],
      "metadata": {
        "id": "GyZwhT9a1pui"
      }
    },
    {
      "cell_type": "code",
      "source": [
        "print(f\"the null value count in original dataset is: {(patient_data == '?').sum().sum()}\")\n",
        "df = patient_data.apply(pd.to_numeric, errors=\"coerce\")\n",
        "df = df.fillna(df.mean(numeric_only=True))\n",
        "print(f\"the null value count after substituting is: {(df == '?').sum().sum()}\")"
      ],
      "metadata": {
        "colab": {
          "base_uri": "https://localhost:8080/"
        },
        "id": "zldNi_1MM49d",
        "outputId": "95a6a64e-9b19-444c-c410-2be7934facb9"
      },
      "execution_count": 55,
      "outputs": [
        {
          "output_type": "stream",
          "name": "stdout",
          "text": [
            "the null value count after substituting is: 408\n",
            "the null value count after substituting is: 0\n"
          ]
        }
      ]
    },
    {
      "cell_type": "markdown",
      "source": [
        "### Part 4"
      ],
      "metadata": {
        "id": "0AAkJhL8ON6J"
      }
    },
    {
      "cell_type": "markdown",
      "source": [
        "To understand which feature has strongest influence, I want to standardize the data first, and then build a linear model between all the independent features and dependent features to compare the absolute value of their coefficients\n",
        "\n",
        "The most important feature is feature # 204, the second important is 264, and the third important is #274 (0-index based)\n"
      ],
      "metadata": {
        "id": "0jjuCTtXWtZN"
      }
    },
    {
      "cell_type": "code",
      "source": [
        "from sklearn.linear_model import LogisticRegression\n",
        "from sklearn.preprocessing import StandardScaler\n",
        "\n",
        "X, y = df.iloc[:, :-1], df.iloc[:, -1]\n",
        "scaler = StandardScaler()\n",
        "X_scaled = scaler.fit_transform(X)\n",
        "\n",
        "model = LogisticRegression().fit(X_scaled, y)\n",
        "importances = model.coef_[0]"
      ],
      "metadata": {
        "id": "0B2IGLdaOP8q"
      },
      "execution_count": 58,
      "outputs": []
    },
    {
      "cell_type": "code",
      "source": [
        "import heapq\n",
        "res = []\n",
        "for i, importance in enumerate(importances):\n",
        "    heapq.heappush(res, (-abs(importance), i))\n",
        "    if len(res) > 3:\n",
        "      heapq.heappop(res)\n",
        "ans = []\n",
        "while res:\n",
        "  importance, i =  heapq.heappop(res)\n",
        "  ans.append(i)\n",
        "print(ans)\n",
        "\n"
      ],
      "metadata": {
        "colab": {
          "base_uri": "https://localhost:8080/"
        },
        "id": "NivR43BQXUjI",
        "outputId": "94156a6d-920e-48d7-c221-13844370f6bb"
      },
      "execution_count": 63,
      "outputs": [
        {
          "output_type": "stream",
          "name": "stdout",
          "text": [
            "[204, 264, 274]\n"
          ]
        }
      ]
    },
    {
      "cell_type": "markdown",
      "source": [
        "### Problem 2\n",
        "\n",
        "We looked at the MNIST data set in class (see the notebook in ``pages`` in Canvas). Recall that MNIST is a data set of handwritten digits. It is considered one of the ``easiest'' image recognition problems in computer vision, and we will see it again.\n",
        "\n",
        "This exercise is simple exercise, and an opportunity to play around with this data set.\n",
        "\n",
        "**Parts 1 to 7: Nothing to submit!** just run through the notebook we saw in class and try to make sure you understand all the commands.\n",
        "\n",
        "Part 1. Make sure you can run through the entire Colab notebook posted. Especially if you haven't used Python, try to understand what every line is doing.\n",
        "\n",
        "Part 2. How many data points are there, how many features are there, and what do the features represent?\n",
        "\n",
        "Part 3. Compute how many times each digit appears in the dataset.\n",
        "\n",
        "Part 4. Read the documentation for sklearn.model_selection.train_test_split and explain what this does.\n",
        "\n",
        "Part 5. Read the documentation for DecisionTreeClassifier, and explain what score means.\n",
        "\n",
        "Part 6. What happens to the **training score** as you increase the depth of the tree? Explain.\n",
        "\n",
        "Part 7. What happens to the difference between **training score** and **testing score** as you increase the depth of the tree? Explain.\n",
        "\n",
        "**Only submit your answer to this part**\n",
        "\n",
        "Part 8. Fix the depth of the tree. For this example, use depth=6 (nothing special about the number 6, just to illustrate the concept). Then plot the difference of training score - testing score when you train on: 100, 500, 5000, 10000, 20,0000, 60,000 training points, always computing testing score by evaluating on the 10,000 testing points. Plot this trend.  Try to explain what you are seeing.  \n"
      ],
      "metadata": {
        "id": "01vCW44LTMC7"
      }
    },
    {
      "cell_type": "code",
      "source": [
        "# Load and preprocess data\n",
        "from torchvision import datasets, transforms\n",
        "\n",
        "# Custom transform to convert tensor to numpy array and remove channel dimension\n",
        "class ToNumpyNoChannel:\n",
        "    def __call__(self, tensor):\n",
        "        return tensor.squeeze(0).numpy()  # Remove channel dimension (C, H, W -> H, W)\n",
        "\n",
        "# Define the transformation pipeline\n",
        "transform = transforms.Compose([\n",
        "    transforms.ToTensor(),  # Converts PIL image to PyTorch tensor\n",
        "    transforms.Normalize(mean=(0.5,), std=(0.5,)),  # Normalize to [-1, 1]\n",
        "    ToNumpyNoChannel()  # Convert tensor to numpy array and remove channel dimension\n",
        "])\n",
        "\n",
        "# Load datasets\n",
        "train_dataset = datasets.MNIST(root='./data', train=True, download=True, transform=transform)\n",
        "test_dataset = datasets.MNIST(root='./data', train=False, download=True, transform=transform)\n",
        "\n",
        "# Access data and labels as NumPy arrays\n",
        "X_train = np.array([train_dataset[i][0] for i in range(len(train_dataset))])  # Features\n",
        "y_train = np.array([train_dataset[i][1] for i in range(len(train_dataset))])  # Labels\n",
        "X_test = np.array([test_dataset[i][0] for i in range(len(test_dataset))])    # Features\n",
        "y_test = np.array([test_dataset[i][1] for i in range(len(test_dataset))])    # Labels\n",
        "\n",
        "# Random permutation of data\n",
        "from sklearn.utils import check_random_state\n",
        "\n",
        "random_state = check_random_state(42)\n",
        "permutation = random_state.permutation(X_train.shape[0])\n",
        "X_train = X_train[permutation]\n",
        "y_train = y_train[permutation]\n",
        "permutation = random_state.permutation(X_test.shape[0])\n",
        "X_test = X_test[permutation]\n",
        "y_test = y_test[permutation]\n"
      ],
      "metadata": {
        "id": "7WjG4Uz0CCWj"
      },
      "execution_count": null,
      "outputs": []
    },
    {
      "cell_type": "code",
      "source": [
        "# Check data\n",
        "print(f\"Shape of X_train: {X_train.shape}\")\n",
        "print(f\"Shape of y_train: {y_train.shape}\")\n",
        "print(f\"Shape of X_test: {X_test.shape}\")\n",
        "print(f\"Shape of y_test: {y_test.shape}\")"
      ],
      "metadata": {
        "colab": {
          "base_uri": "https://localhost:8080/"
        },
        "id": "lWZb_KWhGras",
        "outputId": "618e630b-5871-4687-fde0-35ff9a764302"
      },
      "execution_count": null,
      "outputs": [
        {
          "output_type": "stream",
          "name": "stdout",
          "text": [
            "Shape of X_train: (60000, 28, 28)\n",
            "Shape of y_train: (60000,)\n",
            "Shape of X_test: (10000, 28, 28)\n",
            "Shape of y_test: (10000,)\n"
          ]
        }
      ]
    },
    {
      "cell_type": "code",
      "source": [
        "X_train = X_train.reshape((X_train.shape[0], -1))\n",
        "X_test = X_test.reshape((X_test.shape[0], -1))"
      ],
      "metadata": {
        "id": "JkPB3FCHKOBb"
      },
      "execution_count": null,
      "outputs": []
    },
    {
      "cell_type": "code",
      "source": [
        "from logging import NullHandler\n",
        "# Create model\n",
        "from sklearn import tree\n",
        "\n",
        "datasize = [100, 500, 5000, 10000, 20000, 60000]\n",
        "train_score_list = []\n",
        "test_score_list = []\n",
        "\n",
        "for d in datasize:\n",
        "  X_tr = X_train[:d,:]\n",
        "  y_tr = y_train[:d]\n",
        "\n",
        "  decision_tree = tree.DecisionTreeClassifier(max_depth=6)\n",
        "  decision_tree.fit(X_tr, y_tr)\n",
        "  train_score = decision_tree.score(X_tr,y_tr)\n",
        "  test_score = decision_tree.score(X_test,y_test)\n",
        "\n",
        "  train_score_list.append(train_score)\n",
        "  test_score_list.append(test_score)\n"
      ],
      "metadata": {
        "id": "F7V2NSYiHJja"
      },
      "execution_count": null,
      "outputs": []
    },
    {
      "cell_type": "code",
      "source": [
        "# Plot train-test score errors\n",
        "import matplotlib.pyplot as plt\n",
        "fig, ax = plt.subplots()\n",
        "ax.plot(datasize, train_score_list,label='training')\n",
        "ax.plot(datasize, test_score_list,label='testing')\n",
        "ax.set_xlabel('training datasize')  # Add an x-label to the axes.\n",
        "ax.set_ylabel('accuracy')  # Add a y-label to the axes.\n",
        "ax.set_title(\"Train vs Test\")  # Add a title to the axes.\n",
        "ax.legend();  # Add a legend."
      ],
      "metadata": {
        "colab": {
          "base_uri": "https://localhost:8080/",
          "height": 472
        },
        "id": "4YR6BA9fKgi5",
        "outputId": "9fa95245-a652-4e7b-9bf1-3bfefef52e62"
      },
      "execution_count": null,
      "outputs": [
        {
          "output_type": "display_data",
          "data": {
            "text/plain": [
              "<Figure size 640x480 with 1 Axes>"
            ],
            "image/png": "[encoded data removed]"
          },
          "metadata": {}
        }
      ]
    },
    {
      "cell_type": "markdown",
      "source": [
        "I can see that as the training dataset size increases, the training score decreases while the testing score increases. Eventually, the two curves converge around 20,000 training data points, at an accuracy of about 0.74. This indicates that the model has reached its capacity when we use approximately 20,000 data points."
      ],
      "metadata": {
        "id": "P-eWs3uPNWN_"
      }
    },
    {
      "cell_type": "markdown",
      "source": [
        "### Problem 3\n",
        "\n",
        "We now turn to a somewhat more sophisticated data set: CIFAR10.\n",
        "\n",
        "Load the data using:\n",
        "```\n",
        "from keras.datasets import cifar10\n",
        "(X_train, y_train), (X_test, y_test) = cifar10.load_data()\n",
        "labels = ['airplane', 'automobile', 'bird', 'cat', 'deer', 'dog', 'frog', 'horse', 'ship', 'truck']\n",
        "```\n",
        "\n",
        "Part 1. How many data points are there, and how many labels? How many points for each label?\n",
        "\n",
        "Part 2. Figure out how to display some of the images from CIFAR10.\n",
        "\n",
        "Part 3: Reshape X_train into a matrix X_tr so that each row is a data point.\n",
        " What are the dimensions of X_train?\n",
        "\n",
        "Part 4: Generate decision trees of depth 1 to 15, and for each, compute the training accuracy and the testing accuracy.\n",
        "\n",
        "If you did this correctly and ran the notebook, you noticed that CIFAR10 indeed looks like a ``harder'' problem. Deep trees are again doing very well on the training set, and they do a little better than guessing on the testing data, but not as well as they do on MNIST. We will revisit CIFAR10 several times, as we develop more powerful tools. And we will see that we will do much better than deep decision trees!"
      ],
      "metadata": {
        "id": "naZRl9cbmYbT"
      }
    },
    {
      "cell_type": "markdown",
      "source": [
        "### Part1\n",
        "There are 50,000 data points in training dataset and 10,000 data points in testing dataset.\n",
        "There fore 10 labels and each label has 5,000 data points."
      ],
      "metadata": {
        "id": "XxN8-43ARol8"
      }
    },
    {
      "cell_type": "code",
      "source": [
        "# Load dataset\n",
        "from keras.datasets import cifar10\n",
        "(X_train, y_train), (X_test, y_test) = cifar10.load_data()\n",
        "labels = ['airplane', 'automobile', 'bird', 'cat', 'deer', 'dog', 'frog', 'horse', 'ship', 'truck']"
      ],
      "metadata": {
        "id": "6YxGwbxXOgwQ",
        "colab": {
          "base_uri": "https://localhost:8080/"
        },
        "outputId": "b2f17117-6f50-4a2a-8e93-4b5e0c55844b"
      },
      "execution_count": null,
      "outputs": [
        {
          "output_type": "stream",
          "name": "stdout",
          "text": [
            "Downloading data from https://www.cs.toronto.edu/~kriz/cifar-10-python.tar.gz\n",
            "\u001b[1m170498071/170498071\u001b[0m \u001b[32m━━━━━━━━━━━━━━━━━━━━\u001b[0m\u001b[37m\u001b[0m \u001b[1m14s\u001b[0m 0us/step\n"
          ]
        }
      ]
    },
    {
      "cell_type": "code",
      "source": [
        "# Check data\n",
        "print(f\"Shape of X_train: {X_train.shape}\")\n",
        "print(f\"Shape of y_train: {y_train.shape}\")\n",
        "print(f\"Shape of X_test: {X_test.shape}\")\n",
        "print(f\"Shape of y_test: {y_test.shape}\")\n"
      ],
      "metadata": {
        "colab": {
          "base_uri": "https://localhost:8080/"
        },
        "id": "XVT_1RfGOnZ8",
        "outputId": "8967cb78-6961-4ad4-b7de-17a4cecb6f37"
      },
      "execution_count": null,
      "outputs": [
        {
          "output_type": "stream",
          "name": "stdout",
          "text": [
            "Shape of X_train: (50000, 32, 32, 3)\n",
            "Shape of y_train: (50000, 1)\n",
            "Shape of X_test: (10000, 32, 32, 3)\n",
            "Shape of y_test: (10000, 1)\n"
          ]
        }
      ]
    },
    {
      "cell_type": "code",
      "source": [
        "# Check label size and counter\n",
        "unique_labels, counts = np.unique(y_train, return_counts=True)\n",
        "\n",
        "for label, count in zip(unique_labels, counts):\n",
        "    print(f\"Digit {label}: {count} occurrences\")"
      ],
      "metadata": {
        "colab": {
          "base_uri": "https://localhost:8080/"
        },
        "id": "ofNHar6iO3ao",
        "outputId": "02e30cf7-1ea1-4191-a836-68c82d58b8aa"
      },
      "execution_count": null,
      "outputs": [
        {
          "output_type": "stream",
          "name": "stdout",
          "text": [
            "Digit 0: 5000 occurrences\n",
            "Digit 1: 5000 occurrences\n",
            "Digit 2: 5000 occurrences\n",
            "Digit 3: 5000 occurrences\n",
            "Digit 4: 5000 occurrences\n",
            "Digit 5: 5000 occurrences\n",
            "Digit 6: 5000 occurrences\n",
            "Digit 7: 5000 occurrences\n",
            "Digit 8: 5000 occurrences\n",
            "Digit 9: 5000 occurrences\n"
          ]
        }
      ]
    },
    {
      "cell_type": "markdown",
      "source": [
        "### Part 2\n",
        "The display of index 730 is shown below"
      ],
      "metadata": {
        "id": "zUzHYouYR5Xi"
      }
    },
    {
      "cell_type": "code",
      "source": [
        "# pick random index to display\n",
        "index = 730\n",
        "img = X_train[index]\n",
        "label = y_train[index]\n",
        "\n",
        "# Plot it along with its label\n",
        "plt.title('The label is {label}'.format(label=label))\n",
        "plt.imshow(img)\n",
        "plt.show()"
      ],
      "metadata": {
        "colab": {
          "base_uri": "https://localhost:8080/",
          "height": 452
        },
        "id": "V8jne9mfPcJb",
        "outputId": "555cfc04-80e0-4dcc-e25c-a909d168c3f6"
      },
      "execution_count": null,
      "outputs": [
        {
          "output_type": "display_data",
          "data": {
            "text/plain": [
              "<Figure size 640x480 with 1 Axes>"
            ],
            "image/png": "[encoded data removed]"
          },
          "metadata": {}
        }
      ]
    },
    {
      "cell_type": "markdown",
      "source": [
        "### Part 3"
      ],
      "metadata": {
        "id": "AfyJiVwVSFXX"
      }
    },
    {
      "cell_type": "code",
      "source": [
        "X_tr = X_train.reshape((X_train.shape[0], -1))\n",
        "print(f\"Dimensions of X_tr is: {X_tr.shape}\")"
      ],
      "metadata": {
        "colab": {
          "base_uri": "https://localhost:8080/"
        },
        "id": "CKwEiME7SJXl",
        "outputId": "1cbea685-99fe-4e9e-bea1-95ffed35fbf1"
      },
      "execution_count": null,
      "outputs": [
        {
          "output_type": "stream",
          "name": "stdout",
          "text": [
            "Dimensions of X_tr is: (50000, 3072)\n"
          ]
        }
      ]
    },
    {
      "cell_type": "markdown",
      "source": [
        "### Part 4\n"
      ],
      "metadata": {
        "id": "G0EjSFUSZvmF"
      }
    },
    {
      "cell_type": "code",
      "source": [
        "X_test = X_test.reshape((X_test.shape[0], -1))"
      ],
      "metadata": {
        "id": "6o5c6r0GaFrB"
      },
      "execution_count": null,
      "outputs": []
    },
    {
      "cell_type": "code",
      "source": [
        "# Generate decision tree from depth 1 to 15\n",
        "# The model was too large to train so I am using partial of training data for now\n",
        "\n",
        "X_train_partial = X_tr[:1000, :]\n",
        "y_train_partial = y_train[:1000]\n",
        "from sklearn import tree\n",
        "\n",
        "training_scores = []\n",
        "testing_scores = []\n",
        "depth_values = range(15)\n",
        "for depth in depth_values:\n",
        "    #print(depth)\n",
        "    dt = tree.DecisionTreeClassifier(max_depth=depth+1, criterion='gini')\n",
        "    dt.fit(X_train_partial,y_train_partial)\n",
        "    train_score = dt.score(X_train_partial,y_train_partial)\n",
        "    test_score = dt.score(X_test, y_test)\n",
        "    training_scores.append(train_score)\n",
        "    testing_scores.append(test_score)"
      ],
      "metadata": {
        "id": "ANhmFoh0ZuOS",
        "colab": {
          "base_uri": "https://localhost:8080/"
        },
        "collapsed": true,
        "outputId": "4612d39d-909e-4b9c-9c6c-14d0e12b06fd"
      },
      "execution_count": null,
      "outputs": [
        {
          "output_type": "stream",
          "name": "stdout",
          "text": [
            "0\n",
            "1\n",
            "2\n",
            "3\n",
            "4\n",
            "5\n",
            "6\n",
            "7\n",
            "8\n",
            "9\n",
            "10\n",
            "11\n",
            "12\n",
            "13\n",
            "14\n"
          ]
        }
      ]
    },
    {
      "cell_type": "code",
      "source": [
        "# Only run these when student offer activated\n",
        "\n",
        "# from sklearn import tree\n",
        "\n",
        "# training_scores = []\n",
        "# testing_scores = []\n",
        "# depth_values = range(15)\n",
        "# for depth in depth_values:\n",
        "#     #print(depth)\n",
        "#     dt = tree.DecisionTreeClassifier(max_depth=depth+1, criterion='gini')\n",
        "#     dt.fit(X_tr,y_train)\n",
        "#     train_score = dt.score(X_tr,y_train)\n",
        "#     test_score = dt.score(X_test, y_test)\n",
        "#     training_scores.append(train_score)\n",
        "#     testing_scores.append(test_score)"
      ],
      "metadata": {
        "id": "QQNO7VIzlP4a"
      },
      "execution_count": null,
      "outputs": []
    },
    {
      "cell_type": "code",
      "source": [
        "# Compare training and testing scores on graph\n",
        "fig, ax = plt.subplots()\n",
        "ax.plot(training_scores,label='training')\n",
        "ax.plot(testing_scores,label='testing')\n",
        "ax.set_xlabel('tree depth')\n",
        "ax.set_ylabel('accuracy')\n",
        "ax.set_title(\"Train vs Test\")\n",
        "ax.legend();"
      ],
      "metadata": {
        "id": "VI6VYaTlaafK",
        "colab": {
          "base_uri": "https://localhost:8080/",
          "height": 472
        },
        "outputId": "124f9608-3a89-4857-e07a-b0394f3c6e59"
      },
      "execution_count": null,
      "outputs": [
        {
          "output_type": "display_data",
          "data": {
            "text/plain": [
              "<Figure size 640x480 with 1 Axes>"
            ],
            "image/png": "[encoded data removed]"
          },
          "metadata": {}
        }
      ]
    },
    {
      "cell_type": "markdown",
      "source": [
        "# The next two problems are optional, but recommended\n",
        "\n",
        "We will be generating lots of random data sets in this class, in order to test the behavior of machine learning algorithms.\n",
        "\n",
        "So it's useful to know how to generate random data, and display it."
      ],
      "metadata": {
        "id": "yQ7dZ0zOubdm"
      }
    },
    {
      "cell_type": "markdown",
      "source": [
        "### Problem 4 (Optional, recommended)\n",
        "\n",
        "**Part 1.** Generate 1,000 samples of 2 dimensional data from the Gaussian distribution $\\left(\\begin{array}{cc}X_{i}\\\\Y_{i}\\end{array}\\right)∼N\\biggl(\\left(\\begin{array}{cc}-5\\\\5\\end{array}\\right),\\left(\\begin{array}{cc}2 & 0.8\\\\0.8 & 3\\end{array}\\right)\\biggr)$.\n",
        "\n",
        "**Part 2.** Plot these points.\n",
        "\n",
        "**Part 3.** Find the Eigenvectors and Eigenvalues of the covariance matrix using np.linalg.eig, or np.linalg.eigh, or something else of your choice.\n",
        "\n",
        "**Part 4.** Now take the 1,000 points you generated in the first part, and use them to estimate the mean and covariance matrix for this multi-dimensional data using elementary numpy commands, i.e., addition, multiplication, division (do not use a command that takes data and returns the mean or standard deviation).\n",
        "\n",
        "*Remark*: If you did this correctly: You should have made a number of observations. (i) The points you plotted should look like an elongated ellipse. (ii) The axis of elongation (the major axis of the ellipse) should be aligned with the eigenvector you computed that has the largest eigenvalue. The minor axis, should be aligned with the other eigenvector you computed. (iii) In the last part, you computed what is called the *empirical covariance* matrix. This should be quite close to the covariance matrix you used to generate the data. If we used more and more points (10,000, 100,000, etc.), then our empirical estimate would look more and more like what we used to generate the data.\n"
      ],
      "metadata": {
        "id": "2cb_GbUlauEV"
      }
    },
    {
      "cell_type": "markdown",
      "source": [
        "### Part 1"
      ],
      "metadata": {
        "id": "P15Tvb4HqwMP"
      }
    },
    {
      "cell_type": "code",
      "source": [
        "mu = [-5, 5]\n",
        "cov = [[2, 0.8], [0.8, 3]]\n",
        "data = np.random.multivariate_normal(mu, cov, 1000)"
      ],
      "metadata": {
        "id": "_HMg7ViOqvNY"
      },
      "execution_count": null,
      "outputs": []
    },
    {
      "cell_type": "markdown",
      "source": [
        "### Part 2"
      ],
      "metadata": {
        "id": "F_3tZYQFruUY"
      }
    },
    {
      "cell_type": "code",
      "source": [
        "x = data[:,0]\n",
        "y = data[:,1]\n",
        "\n",
        "plt.scatter(x,y)"
      ],
      "metadata": {
        "colab": {
          "base_uri": "https://localhost:8080/",
          "height": 449
        },
        "id": "iM4uW9POqvXB",
        "outputId": "3ba2becb-648a-4930-f576-d275f57c9212"
      },
      "execution_count": null,
      "outputs": [
        {
          "output_type": "execute_result",
          "data": {
            "text/plain": [
              "<matplotlib.collections.PathCollection at 0x7d59daa365a0>"
            ]
          },
          "metadata": {},
          "execution_count": 13
        },
        {
          "output_type": "display_data",
          "data": {
            "text/plain": [
              "<Figure size 640x480 with 1 Axes>"
            ],
            "image/png": "[encoded data removed]"
          },
          "metadata": {}
        }
      ]
    },
    {
      "cell_type": "markdown",
      "source": [
        "### Part 3"
      ],
      "metadata": {
        "id": "EZ2jnJm5rzs2"
      }
    },
    {
      "cell_type": "code",
      "source": [
        "eigen = np.linalg.eig(cov)\n",
        "print(f\"Eigenvalue is: \\n{eigen.eigenvalues} \\n Eigenvector is:\\n{eigen.eigenvectors}\")"
      ],
      "metadata": {
        "colab": {
          "base_uri": "https://localhost:8080/"
        },
        "id": "XuYteeFmqvce",
        "outputId": "77db3650-9e02-4f31-edfd-43f670ae4522"
      },
      "execution_count": null,
      "outputs": [
        {
          "output_type": "stream",
          "name": "stdout",
          "text": [
            "Eigenvalue is: \n",
            "[1.55660189 3.44339811] \n",
            " Eigenvector is:\n",
            "[[-0.87464248 -0.48476853]\n",
            " [ 0.48476853 -0.87464248]]\n"
          ]
        }
      ]
    },
    {
      "cell_type": "markdown",
      "source": [
        "### Part 4"
      ],
      "metadata": {
        "id": "jOG7-tDdsrI-"
      }
    },
    {
      "cell_type": "code",
      "source": [
        "# Calculate mean:\n",
        "mu_X = 0\n",
        "mu_Y = 0\n",
        "size = 1000\n",
        "for d in data:\n",
        "  mu_X += d[0]\n",
        "  mu_Y += d[1]\n",
        "mu_X = mu_X/size\n",
        "mu_Y = mu_Y/size\n",
        "mu_matrix = np.array([[mu_X], [ mu_Y]])\n",
        "print(f\"Mean matrix is: \\n{mu_matrix}\")\n",
        "\n",
        "# Calculate covariance matrix\n",
        "var_X = 0\n",
        "var_Y = 0\n",
        "cov_XY = 0\n",
        "for d in data:\n",
        "  var_X += (d[0] - mu_X) ** 2\n",
        "  var_Y += (d[1] - mu_Y) ** 2\n",
        "  cov_XY += (d[0] - mu_X) * (d[1] - mu_Y)\n",
        "var_X = var_X/size\n",
        "var_Y = var_Y/size\n",
        "cov_XY = cov_XY/size\n",
        "cov_matrix = np.array([[var_X, cov_XY], [cov_XY, var_Y]])\n",
        "print(f\"Covariance matrix is: \\n{cov_matrix}\")"
      ],
      "metadata": {
        "colab": {
          "base_uri": "https://localhost:8080/"
        },
        "id": "f7-uTcNBqvuP",
        "outputId": "03bb6b33-6056-43b8-dac1-f82e3bb1a5e6"
      },
      "execution_count": null,
      "outputs": [
        {
          "output_type": "stream",
          "name": "stdout",
          "text": [
            "Mean matrix is: \n",
            "[[-4.97678494]\n",
            " [ 4.99769125]]\n",
            "Covariance matrix is: \n",
            "[[2.03176695 0.77216187]\n",
            " [0.77216187 2.91699454]]\n"
          ]
        }
      ]
    },
    {
      "cell_type": "markdown",
      "source": [
        "### Problem 5: Central Limit Theorem (Optional, recommended)\n",
        "\n",
        "Back in your probability/statistics class, you learned the Law of Large Numbers, and the Central Limit Theorem, among many other things. The Law of Large Numbers says that if $X_i$ are independent and identically distributed (iid) random variables, then $(1/N) \\sum X_i$ converges to $\\mathbb{E}[X]$. That's the law of large numbers.\n",
        "\n",
        "You also learned the Central Limit Theorem. This says that if $X_i$ are zero mean, have variance 1, and are iid, then $(1/\\sqrt{N}) \\sum X_i$ converges to a random variable. Which random variable? A standard (zero mean, unit variance) Gaussian.\n",
        "\n",
        "We're going to check the central limit theorem empirically, as an excuse to do more practice with Python and numpy and basic plotting.\n",
        "\n",
        "Let $X_i$ be an iid Bernoulli random variable with value \\{-1,1\\}. Look at the random variable\n",
        "$Z_n = \\frac{1}{\\sqrt{n}}\\sum X_i$. By taking 1000 samples from $Z_n$, plot its histogram. **Note**: To generate 1,000 samples from $Z_n$, you need to generate $1,000 \\times n$ samples of $X_i$, since each $Z$ needs $1,000$ $X_i$'s. Now check that for small $n$ (set $n= 5$) $Z_n$ does not look that much like a Gaussian, but when $n$ is bigger (set $n = 50$) it looks much more like a Gaussian. Check also for much bigger $n$: $n = 250$, to see that at this point, one can really see the bell curve."
      ],
      "metadata": {
        "id": "Dp-Seh6FNCT7"
      }
    },
    {
      "cell_type": "code",
      "source": [
        "# Create Z_n data\n",
        "np.random.seed(42)\n",
        "\n",
        "n = 5\n",
        "Z_5 = []\n",
        "for i in range(n):\n",
        "  data = np.random.binomial(1, 0.5, size=1000)\n",
        "  data = 2 * data - 1\n",
        "  Z_5.append(1/np.sqrt(n)*sum(data))"
      ],
      "metadata": {
        "id": "0VnTqCp0wKm-"
      },
      "execution_count": null,
      "outputs": []
    },
    {
      "cell_type": "code",
      "source": [
        "n = 50\n",
        "Z_50 = []\n",
        "for i in range(n):\n",
        "  data = np.random.binomial(1, 0.5, size=1000)\n",
        "  data = 2 * data - 1\n",
        "  Z_50.append(1/np.sqrt(n)*sum(data))"
      ],
      "metadata": {
        "id": "leYtXCPfyOIZ"
      },
      "execution_count": null,
      "outputs": []
    },
    {
      "cell_type": "code",
      "source": [
        "n = 250\n",
        "Z_250 = []\n",
        "for i in range(n):\n",
        "  data = np.random.binomial(1, 0.5, size=1000)\n",
        "  data = 2 * data - 1\n",
        "  Z_250.append(1/np.sqrt(n)*sum(data))"
      ],
      "metadata": {
        "id": "sWuaF-CnyUmE"
      },
      "execution_count": null,
      "outputs": []
    },
    {
      "cell_type": "code",
      "source": [
        "fig, axes = plt.subplots(1, 3, figsize=(15, 4))\n",
        "axes[0].hist(Z_5, bins=30, color=\"skyblue\", edgecolor=\"black\")\n",
        "axes[0].set_title(\"n = 5\")\n",
        "axes[0].set_xlabel(\"Value\")\n",
        "axes[0].set_ylabel(\"Frequency\")\n",
        "\n",
        "axes[1].hist(Z_50, bins=30, color=\"skyblue\", edgecolor=\"black\")\n",
        "axes[1].set_title(\"n = 50\")\n",
        "axes[1].set_xlabel(\"Value\")\n",
        "axes[1].set_ylabel(\"Frequency\")\n",
        "\n",
        "axes[2].hist(Z_250, bins=30, color=\"skyblue\", edgecolor=\"black\")\n",
        "axes[2].set_title(\"n = 250\")\n",
        "axes[2].set_xlabel(\"Value\")\n",
        "axes[2].set_ylabel(\"Frequency\")"
      ],
      "metadata": {
        "colab": {
          "base_uri": "https://localhost:8080/",
          "height": 428
        },
        "id": "f25aUaatxvs7",
        "outputId": "af2457dd-edab-4636-c900-1f2b9b340cef"
      },
      "execution_count": null,
      "outputs": [
        {
          "output_type": "execute_result",
          "data": {
            "text/plain": [
              "Text(0, 0.5, 'Frequency')"
            ]
          },
          "metadata": {},
          "execution_count": 36
        },
        {
          "output_type": "display_data",
          "data": {
            "text/plain": [
              "<Figure size 1500x400 with 3 Axes>"
            ],
            "image/png": "[encoded data removed]"
          },
          "metadata": {}
        }
      ]
    },
    {
      "cell_type": "code",
      "source": [],
      "metadata": {
        "id": "wb-9P7ibyBkT"
      },
      "execution_count": null,
      "outputs": []
    }
  ]
}